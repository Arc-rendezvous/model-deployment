{
 "cells": [
  {
   "cell_type": "markdown",
   "metadata": {},
   "source": [
    "# Model"
   ]
  },
  {
   "cell_type": "code",
   "execution_count": 1,
   "metadata": {},
   "outputs": [],
   "source": [
    "# Importing the libraries\n",
    "import numpy as np\n",
    "import matplotlib.pyplot as plt\n",
    "import pandas as pd\n",
    "import pickle\n",
    "import requests\n",
    "import json"
   ]
  },
  {
   "cell_type": "code",
   "execution_count": 2,
   "metadata": {},
   "outputs": [],
   "source": [
    "german = pd.read_csv('german_credit.csv')"
   ]
  },
  {
   "cell_type": "code",
   "execution_count": 3,
   "metadata": {},
   "outputs": [],
   "source": [
    "german_prep = german\n",
    "\n",
    "target = german_prep['default']\n",
    "temp = german_prep.drop(['default'], axis = 1)"
   ]
  },
  {
   "cell_type": "code",
   "execution_count": 4,
   "metadata": {},
   "outputs": [],
   "source": [
    "german_model = pd.concat([temp, target], axis = 1)"
   ]
  },
  {
   "cell_type": "code",
   "execution_count": 5,
   "metadata": {},
   "outputs": [],
   "source": [
    "X = german_model.iloc[:,0:len(german_model.columns)-1]\n",
    "y = german_model.iloc[:,len(german_model.columns)-1]"
   ]
  },
  {
   "cell_type": "code",
   "execution_count": 6,
   "metadata": {},
   "outputs": [],
   "source": [
    "# Splitting the dataset into the Training set and Test set\n",
    "from sklearn.model_selection import train_test_split\n",
    "X_train, X_test, y_train, y_test = train_test_split(X, y, test_size = 0.2, random_state = 0) # test size 20% from train test"
   ]
  },
  {
   "cell_type": "code",
   "execution_count": 7,
   "metadata": {},
   "outputs": [],
   "source": [
    "X_train_ori = X_train\n",
    "X_test_ori = X_test"
   ]
  },
  {
   "cell_type": "code",
   "execution_count": 8,
   "metadata": {},
   "outputs": [
    {
     "data": {
      "text/html": [
       "<div>\n",
       "<style scoped>\n",
       "    .dataframe tbody tr th:only-of-type {\n",
       "        vertical-align: middle;\n",
       "    }\n",
       "\n",
       "    .dataframe tbody tr th {\n",
       "        vertical-align: top;\n",
       "    }\n",
       "\n",
       "    .dataframe thead th {\n",
       "        text-align: right;\n",
       "    }\n",
       "</style>\n",
       "<table border=\"1\" class=\"dataframe\">\n",
       "  <thead>\n",
       "    <tr style=\"text-align: right;\">\n",
       "      <th></th>\n",
       "      <th>account_check_status</th>\n",
       "      <th>duration_in_month</th>\n",
       "      <th>credit_history</th>\n",
       "      <th>purpose</th>\n",
       "      <th>credit_amount</th>\n",
       "      <th>savings</th>\n",
       "      <th>present_emp_since</th>\n",
       "      <th>installment_as_income_perc</th>\n",
       "      <th>personal_status_sex</th>\n",
       "      <th>other_debtors</th>\n",
       "      <th>present_res_since</th>\n",
       "      <th>property</th>\n",
       "      <th>age</th>\n",
       "      <th>other_installment_plans</th>\n",
       "      <th>housing</th>\n",
       "      <th>credits_this_bank</th>\n",
       "      <th>job</th>\n",
       "      <th>people_under_maintenance</th>\n",
       "      <th>telephone</th>\n",
       "      <th>foreign_worker</th>\n",
       "    </tr>\n",
       "  </thead>\n",
       "  <tbody>\n",
       "    <tr>\n",
       "      <td>687</td>\n",
       "      <td>0 &lt;= ... &lt; 200 DM</td>\n",
       "      <td>36</td>\n",
       "      <td>delay in paying off in the past</td>\n",
       "      <td>car (new)</td>\n",
       "      <td>2862</td>\n",
       "      <td>100 &lt;= ... &lt; 500 DM</td>\n",
       "      <td>.. &gt;= 7 years</td>\n",
       "      <td>4</td>\n",
       "      <td>male : single</td>\n",
       "      <td>none</td>\n",
       "      <td>3</td>\n",
       "      <td>unknown / no property</td>\n",
       "      <td>30</td>\n",
       "      <td>none</td>\n",
       "      <td>for free</td>\n",
       "      <td>1</td>\n",
       "      <td>skilled employee / official</td>\n",
       "      <td>1</td>\n",
       "      <td>none</td>\n",
       "      <td>yes</td>\n",
       "    </tr>\n",
       "    <tr>\n",
       "      <td>500</td>\n",
       "      <td>&lt; 0 DM</td>\n",
       "      <td>24</td>\n",
       "      <td>existing credits paid back duly till now</td>\n",
       "      <td>car (new)</td>\n",
       "      <td>3123</td>\n",
       "      <td>... &lt; 100 DM</td>\n",
       "      <td>... &lt; 1 year</td>\n",
       "      <td>4</td>\n",
       "      <td>female : divorced/separated/married</td>\n",
       "      <td>none</td>\n",
       "      <td>1</td>\n",
       "      <td>if not A121 : building society savings agreeme...</td>\n",
       "      <td>27</td>\n",
       "      <td>none</td>\n",
       "      <td>own</td>\n",
       "      <td>1</td>\n",
       "      <td>skilled employee / official</td>\n",
       "      <td>1</td>\n",
       "      <td>none</td>\n",
       "      <td>yes</td>\n",
       "    </tr>\n",
       "    <tr>\n",
       "      <td>332</td>\n",
       "      <td>0 &lt;= ... &lt; 200 DM</td>\n",
       "      <td>60</td>\n",
       "      <td>existing credits paid back duly till now</td>\n",
       "      <td>car (new)</td>\n",
       "      <td>7408</td>\n",
       "      <td>100 &lt;= ... &lt; 500 DM</td>\n",
       "      <td>... &lt; 1 year</td>\n",
       "      <td>4</td>\n",
       "      <td>female : divorced/separated/married</td>\n",
       "      <td>none</td>\n",
       "      <td>2</td>\n",
       "      <td>if not A121 : building society savings agreeme...</td>\n",
       "      <td>24</td>\n",
       "      <td>none</td>\n",
       "      <td>own</td>\n",
       "      <td>1</td>\n",
       "      <td>management/ self-employed/ highly qualified em...</td>\n",
       "      <td>1</td>\n",
       "      <td>none</td>\n",
       "      <td>yes</td>\n",
       "    </tr>\n",
       "    <tr>\n",
       "      <td>979</td>\n",
       "      <td>0 &lt;= ... &lt; 200 DM</td>\n",
       "      <td>15</td>\n",
       "      <td>all credits at this bank paid back duly</td>\n",
       "      <td>car (new)</td>\n",
       "      <td>1264</td>\n",
       "      <td>100 &lt;= ... &lt; 500 DM</td>\n",
       "      <td>1 &lt;= ... &lt; 4 years</td>\n",
       "      <td>2</td>\n",
       "      <td>male : married/widowed</td>\n",
       "      <td>none</td>\n",
       "      <td>2</td>\n",
       "      <td>if not A121 : building society savings agreeme...</td>\n",
       "      <td>25</td>\n",
       "      <td>none</td>\n",
       "      <td>rent</td>\n",
       "      <td>1</td>\n",
       "      <td>skilled employee / official</td>\n",
       "      <td>1</td>\n",
       "      <td>none</td>\n",
       "      <td>yes</td>\n",
       "    </tr>\n",
       "    <tr>\n",
       "      <td>817</td>\n",
       "      <td>no checking account</td>\n",
       "      <td>6</td>\n",
       "      <td>critical account/ other credits existing (not ...</td>\n",
       "      <td>domestic appliances</td>\n",
       "      <td>1554</td>\n",
       "      <td>... &lt; 100 DM</td>\n",
       "      <td>4 &lt;= ... &lt; 7 years</td>\n",
       "      <td>1</td>\n",
       "      <td>female : divorced/separated/married</td>\n",
       "      <td>none</td>\n",
       "      <td>2</td>\n",
       "      <td>if not A121/A122 : car or other, not in attrib...</td>\n",
       "      <td>24</td>\n",
       "      <td>none</td>\n",
       "      <td>rent</td>\n",
       "      <td>2</td>\n",
       "      <td>skilled employee / official</td>\n",
       "      <td>1</td>\n",
       "      <td>yes, registered under the customers name</td>\n",
       "      <td>yes</td>\n",
       "    </tr>\n",
       "    <tr>\n",
       "      <td>...</td>\n",
       "      <td>...</td>\n",
       "      <td>...</td>\n",
       "      <td>...</td>\n",
       "      <td>...</td>\n",
       "      <td>...</td>\n",
       "      <td>...</td>\n",
       "      <td>...</td>\n",
       "      <td>...</td>\n",
       "      <td>...</td>\n",
       "      <td>...</td>\n",
       "      <td>...</td>\n",
       "      <td>...</td>\n",
       "      <td>...</td>\n",
       "      <td>...</td>\n",
       "      <td>...</td>\n",
       "      <td>...</td>\n",
       "      <td>...</td>\n",
       "      <td>...</td>\n",
       "      <td>...</td>\n",
       "      <td>...</td>\n",
       "    </tr>\n",
       "    <tr>\n",
       "      <td>835</td>\n",
       "      <td>&lt; 0 DM</td>\n",
       "      <td>12</td>\n",
       "      <td>no credits taken/ all credits paid back duly</td>\n",
       "      <td>car (new)</td>\n",
       "      <td>1082</td>\n",
       "      <td>... &lt; 100 DM</td>\n",
       "      <td>1 &lt;= ... &lt; 4 years</td>\n",
       "      <td>4</td>\n",
       "      <td>male : single</td>\n",
       "      <td>none</td>\n",
       "      <td>4</td>\n",
       "      <td>if not A121/A122 : car or other, not in attrib...</td>\n",
       "      <td>48</td>\n",
       "      <td>bank</td>\n",
       "      <td>own</td>\n",
       "      <td>2</td>\n",
       "      <td>skilled employee / official</td>\n",
       "      <td>1</td>\n",
       "      <td>none</td>\n",
       "      <td>yes</td>\n",
       "    </tr>\n",
       "    <tr>\n",
       "      <td>192</td>\n",
       "      <td>0 &lt;= ... &lt; 200 DM</td>\n",
       "      <td>27</td>\n",
       "      <td>existing credits paid back duly till now</td>\n",
       "      <td>business</td>\n",
       "      <td>3915</td>\n",
       "      <td>... &lt; 100 DM</td>\n",
       "      <td>1 &lt;= ... &lt; 4 years</td>\n",
       "      <td>4</td>\n",
       "      <td>male : single</td>\n",
       "      <td>none</td>\n",
       "      <td>2</td>\n",
       "      <td>if not A121/A122 : car or other, not in attrib...</td>\n",
       "      <td>36</td>\n",
       "      <td>none</td>\n",
       "      <td>own</td>\n",
       "      <td>1</td>\n",
       "      <td>skilled employee / official</td>\n",
       "      <td>2</td>\n",
       "      <td>yes, registered under the customers name</td>\n",
       "      <td>yes</td>\n",
       "    </tr>\n",
       "    <tr>\n",
       "      <td>629</td>\n",
       "      <td>no checking account</td>\n",
       "      <td>9</td>\n",
       "      <td>existing credits paid back duly till now</td>\n",
       "      <td>(vacation - does not exist?)</td>\n",
       "      <td>3832</td>\n",
       "      <td>unknown/ no savings account</td>\n",
       "      <td>.. &gt;= 7 years</td>\n",
       "      <td>1</td>\n",
       "      <td>male : single</td>\n",
       "      <td>none</td>\n",
       "      <td>4</td>\n",
       "      <td>real estate</td>\n",
       "      <td>64</td>\n",
       "      <td>none</td>\n",
       "      <td>own</td>\n",
       "      <td>1</td>\n",
       "      <td>unskilled - resident</td>\n",
       "      <td>1</td>\n",
       "      <td>none</td>\n",
       "      <td>yes</td>\n",
       "    </tr>\n",
       "    <tr>\n",
       "      <td>559</td>\n",
       "      <td>0 &lt;= ... &lt; 200 DM</td>\n",
       "      <td>18</td>\n",
       "      <td>critical account/ other credits existing (not ...</td>\n",
       "      <td>radio/television</td>\n",
       "      <td>1928</td>\n",
       "      <td>... &lt; 100 DM</td>\n",
       "      <td>... &lt; 1 year</td>\n",
       "      <td>2</td>\n",
       "      <td>male : single</td>\n",
       "      <td>none</td>\n",
       "      <td>2</td>\n",
       "      <td>real estate</td>\n",
       "      <td>31</td>\n",
       "      <td>none</td>\n",
       "      <td>own</td>\n",
       "      <td>2</td>\n",
       "      <td>unskilled - resident</td>\n",
       "      <td>1</td>\n",
       "      <td>none</td>\n",
       "      <td>yes</td>\n",
       "    </tr>\n",
       "    <tr>\n",
       "      <td>684</td>\n",
       "      <td>0 &lt;= ... &lt; 200 DM</td>\n",
       "      <td>36</td>\n",
       "      <td>delay in paying off in the past</td>\n",
       "      <td>business</td>\n",
       "      <td>9857</td>\n",
       "      <td>100 &lt;= ... &lt; 500 DM</td>\n",
       "      <td>4 &lt;= ... &lt; 7 years</td>\n",
       "      <td>1</td>\n",
       "      <td>male : single</td>\n",
       "      <td>none</td>\n",
       "      <td>3</td>\n",
       "      <td>if not A121 : building society savings agreeme...</td>\n",
       "      <td>31</td>\n",
       "      <td>none</td>\n",
       "      <td>own</td>\n",
       "      <td>2</td>\n",
       "      <td>unskilled - resident</td>\n",
       "      <td>2</td>\n",
       "      <td>yes, registered under the customers name</td>\n",
       "      <td>yes</td>\n",
       "    </tr>\n",
       "  </tbody>\n",
       "</table>\n",
       "<p>800 rows × 20 columns</p>\n",
       "</div>"
      ],
      "text/plain": [
       "    account_check_status  duration_in_month  \\\n",
       "687    0 <= ... < 200 DM                 36   \n",
       "500               < 0 DM                 24   \n",
       "332    0 <= ... < 200 DM                 60   \n",
       "979    0 <= ... < 200 DM                 15   \n",
       "817  no checking account                  6   \n",
       "..                   ...                ...   \n",
       "835               < 0 DM                 12   \n",
       "192    0 <= ... < 200 DM                 27   \n",
       "629  no checking account                  9   \n",
       "559    0 <= ... < 200 DM                 18   \n",
       "684    0 <= ... < 200 DM                 36   \n",
       "\n",
       "                                        credit_history  \\\n",
       "687                    delay in paying off in the past   \n",
       "500           existing credits paid back duly till now   \n",
       "332           existing credits paid back duly till now   \n",
       "979            all credits at this bank paid back duly   \n",
       "817  critical account/ other credits existing (not ...   \n",
       "..                                                 ...   \n",
       "835       no credits taken/ all credits paid back duly   \n",
       "192           existing credits paid back duly till now   \n",
       "629           existing credits paid back duly till now   \n",
       "559  critical account/ other credits existing (not ...   \n",
       "684                    delay in paying off in the past   \n",
       "\n",
       "                          purpose  credit_amount                      savings  \\\n",
       "687                     car (new)           2862          100 <= ... < 500 DM   \n",
       "500                     car (new)           3123                 ... < 100 DM   \n",
       "332                     car (new)           7408          100 <= ... < 500 DM   \n",
       "979                     car (new)           1264          100 <= ... < 500 DM   \n",
       "817           domestic appliances           1554                 ... < 100 DM   \n",
       "..                            ...            ...                          ...   \n",
       "835                     car (new)           1082                 ... < 100 DM   \n",
       "192                      business           3915                 ... < 100 DM   \n",
       "629  (vacation - does not exist?)           3832  unknown/ no savings account   \n",
       "559              radio/television           1928                 ... < 100 DM   \n",
       "684                      business           9857          100 <= ... < 500 DM   \n",
       "\n",
       "      present_emp_since  installment_as_income_perc  \\\n",
       "687       .. >= 7 years                           4   \n",
       "500       ... < 1 year                            4   \n",
       "332       ... < 1 year                            4   \n",
       "979  1 <= ... < 4 years                           2   \n",
       "817  4 <= ... < 7 years                           1   \n",
       "..                  ...                         ...   \n",
       "835  1 <= ... < 4 years                           4   \n",
       "192  1 <= ... < 4 years                           4   \n",
       "629       .. >= 7 years                           1   \n",
       "559       ... < 1 year                            2   \n",
       "684  4 <= ... < 7 years                           1   \n",
       "\n",
       "                     personal_status_sex other_debtors  present_res_since  \\\n",
       "687                        male : single          none                  3   \n",
       "500  female : divorced/separated/married          none                  1   \n",
       "332  female : divorced/separated/married          none                  2   \n",
       "979               male : married/widowed          none                  2   \n",
       "817  female : divorced/separated/married          none                  2   \n",
       "..                                   ...           ...                ...   \n",
       "835                        male : single          none                  4   \n",
       "192                        male : single          none                  2   \n",
       "629                        male : single          none                  4   \n",
       "559                        male : single          none                  2   \n",
       "684                        male : single          none                  3   \n",
       "\n",
       "                                              property  age  \\\n",
       "687                              unknown / no property   30   \n",
       "500  if not A121 : building society savings agreeme...   27   \n",
       "332  if not A121 : building society savings agreeme...   24   \n",
       "979  if not A121 : building society savings agreeme...   25   \n",
       "817  if not A121/A122 : car or other, not in attrib...   24   \n",
       "..                                                 ...  ...   \n",
       "835  if not A121/A122 : car or other, not in attrib...   48   \n",
       "192  if not A121/A122 : car or other, not in attrib...   36   \n",
       "629                                        real estate   64   \n",
       "559                                        real estate   31   \n",
       "684  if not A121 : building society savings agreeme...   31   \n",
       "\n",
       "    other_installment_plans   housing  credits_this_bank  \\\n",
       "687                    none  for free                  1   \n",
       "500                    none       own                  1   \n",
       "332                    none       own                  1   \n",
       "979                    none      rent                  1   \n",
       "817                    none      rent                  2   \n",
       "..                      ...       ...                ...   \n",
       "835                    bank       own                  2   \n",
       "192                    none       own                  1   \n",
       "629                    none       own                  1   \n",
       "559                    none       own                  2   \n",
       "684                    none       own                  2   \n",
       "\n",
       "                                                   job  \\\n",
       "687                        skilled employee / official   \n",
       "500                        skilled employee / official   \n",
       "332  management/ self-employed/ highly qualified em...   \n",
       "979                        skilled employee / official   \n",
       "817                        skilled employee / official   \n",
       "..                                                 ...   \n",
       "835                        skilled employee / official   \n",
       "192                        skilled employee / official   \n",
       "629                               unskilled - resident   \n",
       "559                               unskilled - resident   \n",
       "684                               unskilled - resident   \n",
       "\n",
       "     people_under_maintenance                                  telephone  \\\n",
       "687                         1                                       none   \n",
       "500                         1                                       none   \n",
       "332                         1                                       none   \n",
       "979                         1                                       none   \n",
       "817                         1  yes, registered under the customers name    \n",
       "..                        ...                                        ...   \n",
       "835                         1                                       none   \n",
       "192                         2  yes, registered under the customers name    \n",
       "629                         1                                       none   \n",
       "559                         1                                       none   \n",
       "684                         2  yes, registered under the customers name    \n",
       "\n",
       "    foreign_worker  \n",
       "687            yes  \n",
       "500            yes  \n",
       "332            yes  \n",
       "979            yes  \n",
       "817            yes  \n",
       "..             ...  \n",
       "835            yes  \n",
       "192            yes  \n",
       "629            yes  \n",
       "559            yes  \n",
       "684            yes  \n",
       "\n",
       "[800 rows x 20 columns]"
      ]
     },
     "execution_count": 8,
     "metadata": {},
     "output_type": "execute_result"
    }
   ],
   "source": [
    "X_train_ori"
   ]
  },
  {
   "cell_type": "code",
   "execution_count": 9,
   "metadata": {},
   "outputs": [],
   "source": [
    "# Categorical boolean mask\n",
    "categorical_feature_mask = german_model.dtypes==object\n",
    "numerical_feature_mask = german_model.dtypes!=object\n",
    "\n",
    "# filter categorical columns using mask and turn it into a list\n",
    "categorical_cols = german_model.columns[categorical_feature_mask]\n",
    "numerical_cols = german_model.columns[numerical_feature_mask]"
   ]
  },
  {
   "cell_type": "code",
   "execution_count": 10,
   "metadata": {},
   "outputs": [],
   "source": [
    "from sklearn.preprocessing import LabelEncoder\n",
    "temp = {}\n",
    "for col in categorical_cols:\n",
    "    le = LabelEncoder()\n",
    "    le.fit(X_train[col])\n",
    "    temp[col] = dict(zip(le.classes_, le.transform(le.classes_)))"
   ]
  },
  {
   "cell_type": "code",
   "execution_count": 11,
   "metadata": {},
   "outputs": [
    {
     "data": {
      "text/plain": [
       "{'account_check_status': {'0 <= ... < 200 DM': 0,\n",
       "  '< 0 DM': 1,\n",
       "  '>= 200 DM / salary assignments for at least 1 year': 2,\n",
       "  'no checking account': 3},\n",
       " 'credit_history': {'all credits at this bank paid back duly': 0,\n",
       "  'critical account/ other credits existing (not at this bank)': 1,\n",
       "  'delay in paying off in the past': 2,\n",
       "  'existing credits paid back duly till now': 3,\n",
       "  'no credits taken/ all credits paid back duly': 4},\n",
       " 'purpose': {'(vacation - does not exist?)': 0,\n",
       "  'business': 1,\n",
       "  'car (new)': 2,\n",
       "  'car (used)': 3,\n",
       "  'domestic appliances': 4,\n",
       "  'education': 5,\n",
       "  'furniture/equipment': 6,\n",
       "  'radio/television': 7,\n",
       "  'repairs': 8,\n",
       "  'retraining': 9},\n",
       " 'savings': {'.. >= 1000 DM ': 0,\n",
       "  '... < 100 DM': 1,\n",
       "  '100 <= ... < 500 DM': 2,\n",
       "  '500 <= ... < 1000 DM ': 3,\n",
       "  'unknown/ no savings account': 4},\n",
       " 'present_emp_since': {'.. >= 7 years': 0,\n",
       "  '... < 1 year ': 1,\n",
       "  '1 <= ... < 4 years': 2,\n",
       "  '4 <= ... < 7 years': 3,\n",
       "  'unemployed': 4},\n",
       " 'personal_status_sex': {'female : divorced/separated/married': 0,\n",
       "  'male : divorced/separated': 1,\n",
       "  'male : married/widowed': 2,\n",
       "  'male : single': 3},\n",
       " 'other_debtors': {'co-applicant': 0, 'guarantor': 1, 'none': 2},\n",
       " 'property': {'if not A121 : building society savings agreement/ life insurance': 0,\n",
       "  'if not A121/A122 : car or other, not in attribute 6': 1,\n",
       "  'real estate': 2,\n",
       "  'unknown / no property': 3},\n",
       " 'other_installment_plans': {'bank': 0, 'none': 1, 'stores': 2},\n",
       " 'housing': {'for free': 0, 'own': 1, 'rent': 2},\n",
       " 'job': {'management/ self-employed/ highly qualified employee/ officer': 0,\n",
       "  'skilled employee / official': 1,\n",
       "  'unemployed/ unskilled - non-resident': 2,\n",
       "  'unskilled - resident': 3},\n",
       " 'telephone': {'none': 0, 'yes, registered under the customers name ': 1},\n",
       " 'foreign_worker': {'no': 0, 'yes': 1}}"
      ]
     },
     "execution_count": 11,
     "metadata": {},
     "output_type": "execute_result"
    }
   ],
   "source": [
    "temp"
   ]
  },
  {
   "cell_type": "code",
   "execution_count": 12,
   "metadata": {},
   "outputs": [
    {
     "data": {
      "text/plain": [
       "dict"
      ]
     },
     "execution_count": 12,
     "metadata": {},
     "output_type": "execute_result"
    }
   ],
   "source": [
    "type(temp)"
   ]
  },
  {
   "cell_type": "code",
   "execution_count": 13,
   "metadata": {},
   "outputs": [
    {
     "data": {
      "text/plain": [
       "{'no': 0, 'yes': 1}"
      ]
     },
     "execution_count": 13,
     "metadata": {},
     "output_type": "execute_result"
    }
   ],
   "source": [
    "dict(zip(le.classes_, le.transform(le.classes_)))"
   ]
  },
  {
   "cell_type": "code",
   "execution_count": 14,
   "metadata": {},
   "outputs": [],
   "source": [
    "class MultiColumnLabelEncoder:\n",
    "    def __init__(self,columns = None):\n",
    "        self.columns = columns # array of column names to encode\n",
    "\n",
    "    def fit(self,X,y=None):\n",
    "        return self # not relevant here\n",
    "\n",
    "    def transform(self,X):\n",
    "        '''\n",
    "        Transforms columns of X specified in self.columns using\n",
    "        LabelEncoder(). If no columns specified, transforms all\n",
    "        columns in X.\n",
    "        '''\n",
    "        output = X.copy()\n",
    "        if self.columns is not None:\n",
    "            for col in self.columns:\n",
    "                output[col] = LabelEncoder().fit_transform(output[col])\n",
    "        else:\n",
    "            for colname,col in output.iteritems():\n",
    "                output[colname] = LabelEncoder().fit_transform(col)\n",
    "        return output\n",
    "\n",
    "    def fit_transform(self,X,y=None):\n",
    "        return self.fit(X,y).transform(X)"
   ]
  },
  {
   "cell_type": "code",
   "execution_count": 15,
   "metadata": {},
   "outputs": [],
   "source": [
    "X_train = MultiColumnLabelEncoder(columns=categorical_cols).fit_transform(X_train).to_numpy()\n",
    "X_test = MultiColumnLabelEncoder(columns=categorical_cols).fit_transform(X_test).to_numpy()"
   ]
  },
  {
   "cell_type": "code",
   "execution_count": 16,
   "metadata": {},
   "outputs": [
    {
     "name": "stderr",
     "output_type": "stream",
     "text": [
      "C:\\Users\\mikhael.bratanata\\AppData\\Local\\Continuum\\anaconda3\\lib\\site-packages\\sklearn\\ensemble\\forest.py:245: FutureWarning: The default value of n_estimators will change from 10 in version 0.20 to 100 in 0.22.\n",
      "  \"10 in version 0.20 to 100 in 0.22.\", FutureWarning)\n"
     ]
    },
    {
     "data": {
      "text/plain": [
       "RandomForestClassifier(bootstrap=True, class_weight=None, criterion='gini',\n",
       "                       max_depth=None, max_features='auto', max_leaf_nodes=None,\n",
       "                       min_impurity_decrease=0.0, min_impurity_split=None,\n",
       "                       min_samples_leaf=1, min_samples_split=2,\n",
       "                       min_weight_fraction_leaf=0.0, n_estimators=10,\n",
       "                       n_jobs=None, oob_score=False, random_state=None,\n",
       "                       verbose=0, warm_start=False)"
      ]
     },
     "execution_count": 16,
     "metadata": {},
     "output_type": "execute_result"
    }
   ],
   "source": [
    "# Fitting Random Forest to the Training set\n",
    "from sklearn.ensemble import RandomForestClassifier\n",
    "rf = RandomForestClassifier()\n",
    "rf.fit(X_train, y_train)"
   ]
  },
  {
   "cell_type": "code",
   "execution_count": 17,
   "metadata": {},
   "outputs": [],
   "source": [
    "# Predicting the Test set results\n",
    "y_pred = rf.predict(X_test)"
   ]
  },
  {
   "cell_type": "code",
   "execution_count": 18,
   "metadata": {},
   "outputs": [],
   "source": [
    "from sklearn.metrics import accuracy_score\n",
    "from sklearn.metrics import roc_auc_score"
   ]
  },
  {
   "cell_type": "code",
   "execution_count": 19,
   "metadata": {},
   "outputs": [
    {
     "name": "stdout",
     "output_type": "stream",
     "text": [
      "0.74\n"
     ]
    }
   ],
   "source": [
    "rf_acc = accuracy_score(y_test, rf.predict(X_test))\n",
    "print(accuracy_score(y_test, rf.predict(X_test)))"
   ]
  },
  {
   "cell_type": "code",
   "execution_count": 20,
   "metadata": {},
   "outputs": [
    {
     "name": "stdout",
     "output_type": "stream",
     "text": [
      "0.6027197668771249\n"
     ]
    }
   ],
   "source": [
    "rf_auc = roc_auc_score(y_test, rf.predict(X_test))\n",
    "print(roc_auc_score(y_test, rf.predict(X_test)))"
   ]
  },
  {
   "cell_type": "code",
   "execution_count": 21,
   "metadata": {},
   "outputs": [
    {
     "name": "stdout",
     "output_type": "stream",
     "text": [
      "[0.0957288  0.11343509 0.05972155 0.06764906 0.14751149 0.04790548\n",
      " 0.0460369  0.03990764 0.03423637 0.01999622 0.0377242  0.05031718\n",
      " 0.10068777 0.02797457 0.02331014 0.0216791  0.02411008 0.01621515\n",
      " 0.02146957 0.00438367]\n"
     ]
    }
   ],
   "source": [
    "print(rf.feature_importances_)"
   ]
  },
  {
   "cell_type": "code",
   "execution_count": 22,
   "metadata": {},
   "outputs": [
    {
     "data": {
      "image/png": "[encoded data removed]",
      "text/plain": [
       "<Figure size 432x288 with 1 Axes>"
      ]
     },
     "metadata": {
      "needs_background": "light"
     },
     "output_type": "display_data"
    }
   ],
   "source": [
    "plt.bar(range(len(rf.feature_importances_)), rf.feature_importances_)\n",
    "plt.show()"
   ]
  },
  {
   "cell_type": "code",
   "execution_count": 23,
   "metadata": {},
   "outputs": [],
   "source": [
    "rf_feat = rf.feature_importances_"
   ]
  },
  {
   "cell_type": "code",
   "execution_count": 24,
   "metadata": {},
   "outputs": [],
   "source": [
    "rf_mod = rf_feat.argsort()[-5:][::-1]"
   ]
  },
  {
   "cell_type": "code",
   "execution_count": 25,
   "metadata": {},
   "outputs": [
    {
     "data": {
      "text/plain": [
       "array([ 4,  1, 12,  0,  3], dtype=int64)"
      ]
     },
     "execution_count": 25,
     "metadata": {},
     "output_type": "execute_result"
    }
   ],
   "source": [
    "rf_mod"
   ]
  },
  {
   "cell_type": "code",
   "execution_count": 26,
   "metadata": {},
   "outputs": [
    {
     "data": {
      "text/plain": [
       "numpy.ndarray"
      ]
     },
     "execution_count": 26,
     "metadata": {},
     "output_type": "execute_result"
    }
   ],
   "source": [
    "type(X_train)"
   ]
  },
  {
   "cell_type": "code",
   "execution_count": 27,
   "metadata": {},
   "outputs": [],
   "source": [
    "X_train = X_train[:, rf_mod]"
   ]
  },
  {
   "cell_type": "code",
   "execution_count": 28,
   "metadata": {},
   "outputs": [
    {
     "name": "stderr",
     "output_type": "stream",
     "text": [
      "C:\\Users\\mikhael.bratanata\\AppData\\Local\\Continuum\\anaconda3\\lib\\site-packages\\sklearn\\ensemble\\forest.py:245: FutureWarning: The default value of n_estimators will change from 10 in version 0.20 to 100 in 0.22.\n",
      "  \"10 in version 0.20 to 100 in 0.22.\", FutureWarning)\n"
     ]
    },
    {
     "data": {
      "text/plain": [
       "RandomForestClassifier(bootstrap=True, class_weight=None, criterion='gini',\n",
       "                       max_depth=None, max_features='auto', max_leaf_nodes=None,\n",
       "                       min_impurity_decrease=0.0, min_impurity_split=None,\n",
       "                       min_samples_leaf=1, min_samples_split=2,\n",
       "                       min_weight_fraction_leaf=0.0, n_estimators=10,\n",
       "                       n_jobs=None, oob_score=False, random_state=None,\n",
       "                       verbose=0, warm_start=False)"
      ]
     },
     "execution_count": 28,
     "metadata": {},
     "output_type": "execute_result"
    }
   ],
   "source": [
    "rf = RandomForestClassifier()\n",
    "rf.fit(X_train, y_train)"
   ]
  },
  {
   "cell_type": "code",
   "execution_count": 29,
   "metadata": {},
   "outputs": [],
   "source": [
    "X_test = X_test[:, rf_mod]"
   ]
  },
  {
   "cell_type": "code",
   "execution_count": 30,
   "metadata": {},
   "outputs": [],
   "source": [
    "# Predicting the Test set results\n",
    "y_pred = rf.predict(X_test)"
   ]
  },
  {
   "cell_type": "code",
   "execution_count": 31,
   "metadata": {},
   "outputs": [
    {
     "name": "stdout",
     "output_type": "stream",
     "text": [
      "0.73\n"
     ]
    }
   ],
   "source": [
    "rf_acc = accuracy_score(y_test, rf.predict(X_test))\n",
    "print(accuracy_score(y_test, rf.predict(X_test)))"
   ]
  },
  {
   "cell_type": "code",
   "execution_count": 32,
   "metadata": {},
   "outputs": [
    {
     "name": "stdout",
     "output_type": "stream",
     "text": [
      "0.6364740165128703\n"
     ]
    }
   ],
   "source": [
    "rf_auc = roc_auc_score(y_test, rf.predict(X_test))\n",
    "print(roc_auc_score(y_test, rf.predict(X_test)))"
   ]
  },
  {
   "cell_type": "code",
   "execution_count": 33,
   "metadata": {},
   "outputs": [],
   "source": [
    "# Saving model using pickle\n",
    "pickle.dump(rf, open('model.pkl','wb'))"
   ]
  },
  {
   "cell_type": "code",
   "execution_count": 34,
   "metadata": {},
   "outputs": [],
   "source": [
    "# Loading model to compare the results\n",
    "model = pickle.load(open('model.pkl','rb'))\n",
    "# print(model.predict([[1.8]]))"
   ]
  },
  {
   "cell_type": "code",
   "execution_count": 35,
   "metadata": {},
   "outputs": [],
   "source": [
    "fin = X_train_ori.iloc[:, rf_mod]"
   ]
  },
  {
   "cell_type": "code",
   "execution_count": 36,
   "metadata": {},
   "outputs": [
    {
     "data": {
      "text/html": [
       "<div>\n",
       "<style scoped>\n",
       "    .dataframe tbody tr th:only-of-type {\n",
       "        vertical-align: middle;\n",
       "    }\n",
       "\n",
       "    .dataframe tbody tr th {\n",
       "        vertical-align: top;\n",
       "    }\n",
       "\n",
       "    .dataframe thead th {\n",
       "        text-align: right;\n",
       "    }\n",
       "</style>\n",
       "<table border=\"1\" class=\"dataframe\">\n",
       "  <thead>\n",
       "    <tr style=\"text-align: right;\">\n",
       "      <th></th>\n",
       "      <th>credit_amount</th>\n",
       "      <th>duration_in_month</th>\n",
       "      <th>age</th>\n",
       "      <th>account_check_status</th>\n",
       "      <th>purpose</th>\n",
       "    </tr>\n",
       "  </thead>\n",
       "  <tbody>\n",
       "    <tr>\n",
       "      <td>687</td>\n",
       "      <td>2862</td>\n",
       "      <td>36</td>\n",
       "      <td>30</td>\n",
       "      <td>0 &lt;= ... &lt; 200 DM</td>\n",
       "      <td>car (new)</td>\n",
       "    </tr>\n",
       "    <tr>\n",
       "      <td>500</td>\n",
       "      <td>3123</td>\n",
       "      <td>24</td>\n",
       "      <td>27</td>\n",
       "      <td>&lt; 0 DM</td>\n",
       "      <td>car (new)</td>\n",
       "    </tr>\n",
       "    <tr>\n",
       "      <td>332</td>\n",
       "      <td>7408</td>\n",
       "      <td>60</td>\n",
       "      <td>24</td>\n",
       "      <td>0 &lt;= ... &lt; 200 DM</td>\n",
       "      <td>car (new)</td>\n",
       "    </tr>\n",
       "    <tr>\n",
       "      <td>979</td>\n",
       "      <td>1264</td>\n",
       "      <td>15</td>\n",
       "      <td>25</td>\n",
       "      <td>0 &lt;= ... &lt; 200 DM</td>\n",
       "      <td>car (new)</td>\n",
       "    </tr>\n",
       "    <tr>\n",
       "      <td>817</td>\n",
       "      <td>1554</td>\n",
       "      <td>6</td>\n",
       "      <td>24</td>\n",
       "      <td>no checking account</td>\n",
       "      <td>domestic appliances</td>\n",
       "    </tr>\n",
       "    <tr>\n",
       "      <td>...</td>\n",
       "      <td>...</td>\n",
       "      <td>...</td>\n",
       "      <td>...</td>\n",
       "      <td>...</td>\n",
       "      <td>...</td>\n",
       "    </tr>\n",
       "    <tr>\n",
       "      <td>835</td>\n",
       "      <td>1082</td>\n",
       "      <td>12</td>\n",
       "      <td>48</td>\n",
       "      <td>&lt; 0 DM</td>\n",
       "      <td>car (new)</td>\n",
       "    </tr>\n",
       "    <tr>\n",
       "      <td>192</td>\n",
       "      <td>3915</td>\n",
       "      <td>27</td>\n",
       "      <td>36</td>\n",
       "      <td>0 &lt;= ... &lt; 200 DM</td>\n",
       "      <td>business</td>\n",
       "    </tr>\n",
       "    <tr>\n",
       "      <td>629</td>\n",
       "      <td>3832</td>\n",
       "      <td>9</td>\n",
       "      <td>64</td>\n",
       "      <td>no checking account</td>\n",
       "      <td>(vacation - does not exist?)</td>\n",
       "    </tr>\n",
       "    <tr>\n",
       "      <td>559</td>\n",
       "      <td>1928</td>\n",
       "      <td>18</td>\n",
       "      <td>31</td>\n",
       "      <td>0 &lt;= ... &lt; 200 DM</td>\n",
       "      <td>radio/television</td>\n",
       "    </tr>\n",
       "    <tr>\n",
       "      <td>684</td>\n",
       "      <td>9857</td>\n",
       "      <td>36</td>\n",
       "      <td>31</td>\n",
       "      <td>0 &lt;= ... &lt; 200 DM</td>\n",
       "      <td>business</td>\n",
       "    </tr>\n",
       "  </tbody>\n",
       "</table>\n",
       "<p>800 rows × 5 columns</p>\n",
       "</div>"
      ],
      "text/plain": [
       "     credit_amount  duration_in_month  age account_check_status  \\\n",
       "687           2862                 36   30    0 <= ... < 200 DM   \n",
       "500           3123                 24   27               < 0 DM   \n",
       "332           7408                 60   24    0 <= ... < 200 DM   \n",
       "979           1264                 15   25    0 <= ... < 200 DM   \n",
       "817           1554                  6   24  no checking account   \n",
       "..             ...                ...  ...                  ...   \n",
       "835           1082                 12   48               < 0 DM   \n",
       "192           3915                 27   36    0 <= ... < 200 DM   \n",
       "629           3832                  9   64  no checking account   \n",
       "559           1928                 18   31    0 <= ... < 200 DM   \n",
       "684           9857                 36   31    0 <= ... < 200 DM   \n",
       "\n",
       "                          purpose  \n",
       "687                     car (new)  \n",
       "500                     car (new)  \n",
       "332                     car (new)  \n",
       "979                     car (new)  \n",
       "817           domestic appliances  \n",
       "..                            ...  \n",
       "835                     car (new)  \n",
       "192                      business  \n",
       "629  (vacation - does not exist?)  \n",
       "559              radio/television  \n",
       "684                      business  \n",
       "\n",
       "[800 rows x 5 columns]"
      ]
     },
     "execution_count": 36,
     "metadata": {},
     "output_type": "execute_result"
    }
   ],
   "source": [
    "fin"
   ]
  },
  {
   "cell_type": "code",
   "execution_count": 37,
   "metadata": {},
   "outputs": [
    {
     "data": {
      "text/plain": [
       "credit_amount            int64\n",
       "duration_in_month        int64\n",
       "age                      int64\n",
       "account_check_status    object\n",
       "purpose                 object\n",
       "dtype: object"
      ]
     },
     "execution_count": 37,
     "metadata": {},
     "output_type": "execute_result"
    }
   ],
   "source": [
    "fin.dtypes"
   ]
  },
  {
   "cell_type": "code",
   "execution_count": 38,
   "metadata": {},
   "outputs": [],
   "source": [
    "# Categorical boolean mask\n",
    "categorical_feature_mask = fin.dtypes==object\n",
    "numerical_feature_mask = fin.dtypes!=object\n",
    "\n",
    "# filter categorical columns using mask and turn it into a list\n",
    "categorical_cols = fin.columns[categorical_feature_mask]\n",
    "numerical_cols = fin.columns[numerical_feature_mask]"
   ]
  },
  {
   "cell_type": "code",
   "execution_count": 39,
   "metadata": {},
   "outputs": [],
   "source": [
    "temp = {}\n",
    "for col in categorical_cols:\n",
    "    le = LabelEncoder()\n",
    "    le.fit(X_train_ori[col])\n",
    "    temp[col] = dict(zip(le.classes_, le.transform(le.classes_)))"
   ]
  },
  {
   "cell_type": "code",
   "execution_count": 40,
   "metadata": {},
   "outputs": [
    {
     "data": {
      "text/plain": [
       "{'account_check_status': {'0 <= ... < 200 DM': 0,\n",
       "  '< 0 DM': 1,\n",
       "  '>= 200 DM / salary assignments for at least 1 year': 2,\n",
       "  'no checking account': 3},\n",
       " 'purpose': {'(vacation - does not exist?)': 0,\n",
       "  'business': 1,\n",
       "  'car (new)': 2,\n",
       "  'car (used)': 3,\n",
       "  'domestic appliances': 4,\n",
       "  'education': 5,\n",
       "  'furniture/equipment': 6,\n",
       "  'radio/television': 7,\n",
       "  'repairs': 8,\n",
       "  'retraining': 9}}"
      ]
     },
     "execution_count": 40,
     "metadata": {},
     "output_type": "execute_result"
    }
   ],
   "source": [
    "temp"
   ]
  },
  {
   "cell_type": "code",
   "execution_count": 42,
   "metadata": {},
   "outputs": [
    {
     "data": {
      "text/plain": [
       "count      800.000000\n",
       "mean      3240.373750\n",
       "std       2831.611332\n",
       "min        250.000000\n",
       "25%       1344.000000\n",
       "50%       2281.500000\n",
       "75%       3941.500000\n",
       "max      18424.000000\n",
       "Name: credit_amount, dtype: float64"
      ]
     },
     "execution_count": 42,
     "metadata": {},
     "output_type": "execute_result"
    }
   ],
   "source": [
    "X_train_ori['credit_amount'].describe()"
   ]
  },
  {
   "cell_type": "code",
   "execution_count": 45,
   "metadata": {},
   "outputs": [
    {
     "data": {
      "text/plain": [
       "count    800.000000\n",
       "mean      35.907500\n",
       "std       11.620036\n",
       "min       19.000000\n",
       "25%       27.000000\n",
       "50%       33.500000\n",
       "75%       42.000000\n",
       "max       75.000000\n",
       "Name: age, dtype: float64"
      ]
     },
     "execution_count": 45,
     "metadata": {},
     "output_type": "execute_result"
    }
   ],
   "source": [
    "X_train_ori['age'].describe()"
   ]
  },
  {
   "cell_type": "code",
   "execution_count": 46,
   "metadata": {},
   "outputs": [
    {
     "data": {
      "text/plain": [
       "count    800.00000\n",
       "mean      20.74375\n",
       "std       12.05694\n",
       "min        4.00000\n",
       "25%       12.00000\n",
       "50%       18.00000\n",
       "75%       24.00000\n",
       "max       72.00000\n",
       "Name: duration_in_month, dtype: float64"
      ]
     },
     "execution_count": 46,
     "metadata": {},
     "output_type": "execute_result"
    }
   ],
   "source": [
    "X_train_ori['duration_in_month'].describe()"
   ]
  },
  {
   "cell_type": "code",
   "execution_count": 4,
   "metadata": {
    "ExecuteTime": {
     "end_time": "2019-11-20T08:06:44.429500Z",
     "start_time": "2019-11-20T08:06:44.414500Z"
    }
   },
   "outputs": [],
   "source": [
    "with open('encode.json', 'w') as f:\n",
    "    json.dump(temp, f)"
   ]
  },
  {
   "cell_type": "code",
   "execution_count": null,
   "metadata": {},
   "outputs": [],
   "source": []
  }
 ],
 "metadata": {
  "hide_input": false,
  "kernelspec": {
   "display_name": "Python 3",
   "language": "python",
   "name": "python3"
  },
  "language_info": {
   "codemirror_mode": {
    "name": "ipython",
    "version": 3
   },
   "file_extension": ".py",
   "mimetype": "text/x-python",
   "name": "python",
   "nbconvert_exporter": "python",
   "pygments_lexer": "ipython3",
   "version": "3.7.3"
  },
  "toc": {
   "base_numbering": 1,
   "nav_menu": {},
   "number_sections": true,
   "sideBar": true,
   "skip_h1_title": false,
   "title_cell": "Table of Contents",
   "title_sidebar": "Contents",
   "toc_cell": false,
   "toc_position": {},
   "toc_section_display": true,
   "toc_window_display": false
  }
 },
 "nbformat": 4,
 "nbformat_minor": 2
}
